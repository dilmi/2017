{
 "cells": [
  {
   "cell_type": "markdown",
   "metadata": {},
   "source": [
    "# Homework 1 \n",
    "\n",
    "## AMPTH 207: Stochastic Methods for Data Analysis, Inference and Optimization\n",
    "\n",
    "**Due Date:** Thursday, Febrary 2nd, 2017 at 11:59pm\n",
    "\n",
    "**Instructions:**\n",
    "\n",
    "- Upload your final answers as well as your iPython notebook containing all work to Canvas.\n",
    "\n",
    "- Structure your notebook and your work to maximize readability."
   ]
  },
  {
   "cell_type": "markdown",
   "metadata": {},
   "source": [
    "## Problem 1: Bayes Theorem\n",
    "\n",
    "**Coding not required**\n",
    "\n",
    "### Part A:\n",
    "Your child has been randomly selected for Type I diabetes screening, using a highly accurate new test that boasts of a false positive rate of 1% and a false negative rate of 0%. The prevalence of of Type I diabetes in children is approximately 0.228%. Should your child test positive, what is the probability that he/she has Type I diabetes?\n",
    "\n",
    "Should you be concerned enough to ask for further testing or treatment for your child?\n",
    "\n",
    "Later, you read online that Type I diabetes is 6 times more prevalent in prematurely born children. If this statistic is true, what is the probability that your child, who is prematurely born, has Type I diabetes?\n",
    "\n",
    "Given the new information, should you be concerned enough to ask for further testing or treatment for your child?\n",
    "\n",
    "**Justify your decisions using your calculations.**"
   ]
  },
  {
   "cell_type": "markdown",
   "metadata": {},
   "source": [
    "### Part A Answer:"
   ]
  },
  {
   "cell_type": "code",
   "execution_count": 39,
   "metadata": {
    "collapsed": false
   },
   "outputs": [
    {
     "name": "stdout",
     "output_type": "stream",
     "text": [
      "The probability of having the disease for the child given a positive test result: 0.1860 \n",
      "\n",
      "The probability that a positive result is a false positive is about 0.8140 \n",
      "\n",
      "Nonetheless, the fraction of people who test positive who do have the diseas ( 0.1860 ) is  82.0  times the fraction of people who have not yet taken the test who have the disease ( 0.00228 )\n",
      "\n",
      "Thus, the test is not useless, and more testing and treatment would give a more reliable result.\n",
      "\n",
      "If the child is prematurely born, then the probability of having the disease is  0.01368 \n",
      "\n",
      "In this case, the probability that a positive result is a false positive is about: 0.4189\n",
      "\n",
      "The result is more reliable now, although further testing would be beneficial.\n",
      "\n"
     ]
    }
   ],
   "source": [
    "TPR = 1.000\n",
    "FNR = 0.000\n",
    "FPR = 0.010\n",
    "TNR = 0.990\n",
    "\n",
    "A = 0.00228\n",
    "A_B = TPR*A/ (TPR*A + FPR*(1-A))\n",
    "print 'The probability of having the disease for the child given a positive test result:', '{0:.4f}'.format(A_B),'\\n'\n",
    "\n",
    "print 'The probability that a positive result is a false positive is about {0:.4f} \\n'.format(1.0 - A_B)\n",
    "\n",
    "print 'Nonetheless, the fraction of people who test positive who do have the diseas (','{0:.4f}'.format(A_B),') is ', round(A_B/PD_True),\\\n",
    "    ' times the fraction of people who have not yet taken the test who have the disease (', A, ')\\n'\n",
    "\n",
    "print 'Thus, the test is not useless, and more testing and treatment would give a more reliable result.\\n'\n",
    "\n",
    "P = A*6\n",
    "\n",
    "print 'If the child is prematurely born, then the probability of having the disease is ', P,'\\n'\n",
    "P_B = TPR*P/ (TPR*P + FPR*(1-P))\n",
    "\n",
    "print 'In this case, the probability that a positive result is a false positive is about: {0:.4f}\\n'.format(1.0 - P_B)\n",
    "\n",
    "print 'The result is more reliable now, although further testing would be beneficial.\\n'\n",
    "\n"
   ]
  },
  {
   "cell_type": "markdown",
   "metadata": {},
   "source": [
    "### Part B:\n",
    "\n",
    "During shopping week, you're trying to decide between two classes based on the criteria that the class must have a lenient grading system. You hear from your friends that one of these classes is rumored to award grades lower than the work merits 35% of the time while the other awards lower grades 15% of the time. However, the rumor doesn't specify which class has harsher grading. So, you decide to conduct an experiment: submit an assignment to be graded. \n",
    "\n",
    "Fortunately, both classes offer an optional Homework 0 that is graded as extra credit. Unfortunately, you only have time to complete the problem set for just one of these classes. \n",
    "\n",
    "Suppose you randomly pick the Homework 0 from Class A to complete and suppose that you received a grade that you believe is lower than the quality of your work warrents. Based on this evidence, what is the probability that Class A has the harsher grading system? Which class should you drop based on the results of your experiment (or do you not have sufficient evidence to decide)?\n",
    "\n",
    "**Justify your decisions using your calculations.**"
   ]
  },
  {
   "cell_type": "markdown",
   "metadata": {},
   "source": [
    "### Part B Answer:\n",
    "\n",
    "I think not enough evidence is provided, specifically conditional probabilities (e.g., given a grade, probability the grade comes from A. etc)."
   ]
  },
  {
   "cell_type": "markdown",
   "metadata": {},
   "source": [
    "## Problem 2: Maximum Likelihood Estimates\n",
    "\n",
    "**Coding required for Part B only**\n",
    "\n",
    "Suppose you observe the following data set $\\mathbf{x}^{(0)} = (0.5, 2.5), \\mathbf{x}^{(1)} = (3.2, 1.3), \\mathbf{x}^{(2)} = (2.72, 5.84), \\mathbf{x}^{(3)}= (10.047, 0.354)$. By convention, for any vector $\\mathbf{x}$, we will denote the first component of $\\mathbf{x}$ by $x_{1}$ and the second component by $x_{2}$. Suppose that the data is drawn from the same two-dimensional probability distribution with pdf $f_X$, that is, $\\mathbf{x}^{(i)} \\overset{iid}{\\sim} f_X$, where\n",
    "$$\n",
    "f_X(\\mathbf{x}) =  4\\lambda_1^2 x_{1}x_{2} \\mathrm{exp} \\left\\{-\\lambda_0 (x^2_{1} + x^2_{2}) \\right\\}.\n",
    "$$\n",
    "You should assume that $\\lambda_1, \\lambda_0 > 0$ and that $f_X$ is supported on the nonnegative quandrant of $\\mathbb{R}^2$ (i.e. $f_X$ is zero when either component is negative). \n",
    "\n",
    "### Part A:\n",
    "\n",
    "What are the values for $\\lambda_0$ and $\\lambda_1$ that maximizes the likelihood of the observed data? \n",
    "\n",
    "**Support your answer with full and rigorous analytic derivations.**\n",
    "\n",
    "### Part B:\n",
    "\n",
    "Visualize the data along with the distribution you determined in part A (in two dimensions or three)."
   ]
  },
  {
   "cell_type": "markdown",
   "metadata": {},
   "source": [
    "### Part A Answer:\n",
    "Find the relationship between $\\lambda_1$ and $\\lambda_0$:\n",
    "\n",
    "$\\int_{0}^{\\infty} \\int_{0}^{\\infty} 4\\lambda_1^2 x_{1}x_{2} e^{-\\lambda_0 (x^2_{1} + x^2_{2}) } dx_{1}dx_{2} $\n",
    "\n",
    "$ = \\int_{0}^{\\infty} 2\\lambda_1^2 x_{2} e^{-\\lambda_0 x^2_{2} } \\frac{1}{\\lambda_0} dx_{2} $\n",
    "\n",
    "$ = \\frac{\\lambda_1^2 }{\\lambda_0^2} = 1 $\n",
    "\n",
    "$ \\therefore \\quad \\lambda_1 = \\lambda_0 $\n",
    "\n",
    "The condition (=1) is because the integral of the probability density function is equal to one.\n",
    "\n",
    "Now let $\\lambda = \\lambda_1 = \\lambda_0$ and then we have:\n",
    "\n",
    "$f_X(\\mathbf{x}) =  4\\lambda^2 x_{1}x_{2} e^{-\\lambda (x^2_{1} + x^2_{2})}$\n",
    "\n",
    "The log-likelihood function is\n",
    "\n",
    "$l(\\lambda;\\mathbf{x}) = \\sum_{1}^{n} 2 \\ln(\\lambda) + \\ln(4x_{1}x_{2}) -\\lambda (x^2_{1} + x^2_{2})$\n",
    "\n",
    "Taking the derivative, find the maximum likelihood estimator by making it equal to zero,\n",
    "\n",
    "$\\frac{dl}{d\\lambda} = \\frac{2n}{\\lambda} - \\sum_{1}^{n}(x^2_{1} + x^2_{2}) = 0 $\n",
    "\n",
    "$ \\therefore \\quad \\lambda = \\frac{2n}{\\sum_{1}^{n} x^2_{1} + x^2_{2}}$\n",
    "\n",
    "Compute the estimator for the observed data:\n"
   ]
  },
  {
   "cell_type": "code",
   "execution_count": 5,
   "metadata": {
    "collapsed": false
   },
   "outputs": [
    {
     "name": "stdout",
     "output_type": "stream",
     "text": [
      "lambda: 0.0496889703374\n"
     ]
    }
   ],
   "source": [
    "import numpy as np\n",
    "\n",
    "data = [[0.5, 2.5], [3.2, 1.3], [2.72, 5.84], [10.047, 0.354]]\n",
    "numpy.power(data, 2)\n",
    "\n",
    "denom = 0\n",
    "for x in data:\n",
    "    denom += np.sum(np.power(x, 2))\n",
    "    \n",
    "print 'lambda:', 2*len(data)/denom"
   ]
  },
  {
   "cell_type": "markdown",
   "metadata": {},
   "source": [
    "### Part B Answer:"
   ]
  },
  {
   "cell_type": "code",
   "execution_count": 99,
   "metadata": {
    "collapsed": false
   },
   "outputs": [
    {
     "data": {
      "image/png": "[encoded data removed]",
      "text/plain": [
       "<matplotlib.figure.Figure at 0x113500ed0>"
      ]
     },
     "metadata": {},
     "output_type": "display_data"
    }
   ],
   "source": [
    "from mpl_toolkits.mplot3d import Axes3D\n",
    "import matplotlib.pyplot as plt\n",
    "from matplotlib import cm\n",
    "# %matplotlib inline\n",
    "\n",
    "# plot the density function\n",
    "f = lambda x1, x2, l: 4*l*l*x1*x2*np.exp(-l*(x1*x1+x2*x2))\n",
    "\n",
    "x = y = np.arange(0, 15.0, 0.1)\n",
    "X, Y = np.meshgrid(x, y)\n",
    "zs = np.array([f(x1,x2, 0.0496889703374) for x1,x2 in zip(np.ravel(X), np.ravel(Y))])\n",
    "Z = zs.reshape(X.shape)\n",
    "extent = [x[0], x[-1], y[0], y[-1]]\n",
    "plt.imshow(Z, extent=extent, cmap=cm.hot)\n",
    "\n",
    "# plot data on the surface\n",
    "xs = np.array([0.5, 3.2, 2.72, 10.047])\n",
    "ys = np.array([2.5, 1.3, 5.84, 0.354])\n",
    "zs = np.array([f(x,y, 0.0496889703374) for x,y in zip(xs, ys)])\n",
    "\n",
    "plt.scatter(xs, ys, c='white', marker='o', s=10)\n",
    "\n",
    "# print f(xs[3], ys[3], 0.0496889703374)\n",
    "plt.show()\n",
    "\n"
   ]
  },
  {
   "cell_type": "markdown",
   "metadata": {},
   "source": [
    "## Problem 3: Frequentist Stats\n",
    "**Coding required**\n",
    "\n",
    "Read the data set contained in [Homework_1_Data.txt](Homework_1_Data.txt). Each data point is a two-dimensional vector, $\\mathbf{x} = (x_1, x_2)$.\n",
    "\n",
    "### Part (A): Visualization and Interpretation\n",
    "\n",
    "- Make a 2-D visualization the distribution of the data. \n",
    "\n",
    "- Visualize the the pdf, $f_X$, of the underlying distribution of the data.\n",
    "\n",
    "- Visualize the distribution defined by $f_{x_2 \\mid x_1}$ for $x_1 \\in [3.99, 4.01]$.\n",
    "\n",
    "- Visualize the distribution defined by $f_{x_1}$.\n",
    "\n",
    "\n",
    "### Part (B): Estimation\n",
    "\n",
    "- Empirically estimate the mean of the distribution $f_{x_1}$. Estimate, also the SE (standard error) of the estimate.\n",
    "\n",
    "- Empirically estimate the standard deviation of the distribution $f_{x_2 \\mid x_1}$, for $x_1 \\in [3.99, 4.01]$. Estimate, also the SE (standard error) of the estimate.\n",
    "\n",
    "- Given the SE, How many in your standard deviation estimate are significant? Explain why."
   ]
  },
  {
   "cell_type": "markdown",
   "metadata": {},
   "source": [
    "### Part A Answer:"
   ]
  },
  {
   "cell_type": "code",
   "execution_count": 61,
   "metadata": {
    "collapsed": false
   },
   "outputs": [
    {
     "data": {
      "image/png": "[encoded data removed]",
      "text/plain": [
       "<matplotlib.figure.Figure at 0x10fd4f150>"
      ]
     },
     "metadata": {},
     "output_type": "display_data"
    },
    {
     "data": {
      "image/png": "[encoded data removed]",
      "text/plain": [
       "<matplotlib.figure.Figure at 0x11054b650>"
      ]
     },
     "metadata": {},
     "output_type": "display_data"
    },
    {
     "data": {
      "image/png": "[encoded data removed]",
      "text/plain": [
       "<matplotlib.figure.Figure at 0x1103f3f50>"
      ]
     },
     "metadata": {},
     "output_type": "display_data"
    }
   ],
   "source": [
    "import numpy as np\n",
    "from numpy import genfromtxt\n",
    "import matplotlib.pyplot as plt\n",
    "from scipy.stats.kde import gaussian_kde\n",
    "\n",
    "# f_X\n",
    "data = genfromtxt('Homework_1_Data.txt', delimiter=',')\n",
    "plt.hist2d(data[:,0], data[:,1], bins=40)\n",
    "plt.colorbar()\n",
    "plt.show()\n",
    "\n",
    "# f_x2 | x1\n",
    "rg = [3.99, 4.01]\n",
    "filtered = data[np.logical_and(data[:,0]>3.99, data[:,0]<4.01), 1]\n",
    "plt.hist(filtered, bins=40)\n",
    "plt.show()\n",
    "\n",
    "# f_x1\n",
    "plt.hist(data[:,0], bins=40)\n",
    "plt.axvline(data[:,0].mean(), 0, 1, color='r')\n",
    "plt.show()"
   ]
  },
  {
   "cell_type": "markdown",
   "metadata": {},
   "source": [
    "### Part B Answer:"
   ]
  },
  {
   "cell_type": "code",
   "execution_count": 62,
   "metadata": {
    "collapsed": false
   },
   "outputs": [
    {
     "data": {
      "image/png": "[encoded data removed]",
      "text/plain": [
       "<matplotlib.figure.Figure at 0x1105a9550>"
      ]
     },
     "metadata": {},
     "output_type": "display_data"
    },
    {
     "data": {
      "image/png": "[encoded data removed]",
      "text/plain": [
       "<matplotlib.figure.Figure at 0x110411d10>"
      ]
     },
     "metadata": {},
     "output_type": "display_data"
    }
   ],
   "source": [
    "from scipy import stats\n",
    "\n",
    "# =========== f_x1\n",
    "f_x1 = data[:,0]\n",
    "M_samples = 10000\n",
    "N_points = f_x1.shape[0]\n",
    "bs_np = np.ones(shape=(M_samples, N_points))\n",
    "bs_np[0,:].shape\n",
    "for i in range(M_samples):\n",
    "    bs_np[i,:] = np.random.choice(f_x1, size=N_points, replace=True)\n",
    "sd_mean=np.mean(bs_np, axis=1)\n",
    "sd_sem=stats.sem(bs_np, axis=1)\n",
    "\n",
    "plt.hist(sd_mean, bins=30, normed=True, alpha=0.5,label=\"samples\");\n",
    "plt.axvline(f_x1.mean(), 0, 1, color='r', label='Our Sample')\n",
    "plt.legend()\n",
    "plt.show()\n",
    "\n",
    "plt.hist(sd_sem, bins=30, normed=True, alpha=0.5,label=\"samples\");\n",
    "plt.axvline(stats.sem(f_x1), 0, 1, color='r', label='Our Sample')\n",
    "plt.legend()\n",
    "plt.show()\n"
   ]
  },
  {
   "cell_type": "code",
   "execution_count": 64,
   "metadata": {
    "collapsed": false,
    "scrolled": true
   },
   "outputs": [
    {
     "data": {
      "image/png": "[encoded data removed]",
      "text/plain": [
       "<matplotlib.figure.Figure at 0x10ffd6410>"
      ]
     },
     "metadata": {},
     "output_type": "display_data"
    },
    {
     "data": {
      "image/png": "[encoded data removed]",
      "text/plain": [
       "<matplotlib.figure.Figure at 0x110788ed0>"
      ]
     },
     "metadata": {},
     "output_type": "display_data"
    }
   ],
   "source": [
    "# =========== f_x2 | x1\n",
    "f_x2_x1 = data[np.logical_and(data[:,0]>3.99, data[:,0]<4.01), 1]\n",
    "M_samples = 10000\n",
    "N_points = f_x2_x1.shape[0]\n",
    "bs_np = np.ones(shape=(M_samples, N_points))\n",
    "bs_np[0,:].shape\n",
    "for i in range(M_samples):\n",
    "    bs_np[i,:] = np.random.choice(f_x2_x1, size=N_points, replace=True)\n",
    "sd_std=np.std(bs_np, axis=1)\n",
    "sd_sem=stats.sem(bs_np, axis=1)\n",
    "\n",
    "plt.hist(sd_std, bins=30, normed=True, alpha=0.5,label=\"samples [3.99,4.01]\");\n",
    "plt.axvline(f_x2_x1.std(), 0, 1, color='r', label='Our Sample [3.99,4.01]')\n",
    "plt.legend()\n",
    "plt.show()\n",
    "\n",
    "plt.hist(sd_sem, bins=30, normed=True, alpha=0.5,label=\"samples [3.99,4.01]\");\n",
    "plt.axvline(stats.sem(f_x2_x1), 0, 1, color='r', label='Our Sample [3.99,4.01]')\n",
    "plt.legend()\n",
    "plt.show()"
   ]
  },
  {
   "cell_type": "code",
   "execution_count": 73,
   "metadata": {
    "collapsed": false
   },
   "outputs": [
    {
     "name": "stdout",
     "output_type": "stream",
     "text": [
      "[ 0.0773428   0.07602082  0.06585527 ...,  0.06786787  0.07056497\n",
      "  0.07242215]\n",
      "[ 0.81851929  0.80452872  0.69694669 ...,  0.71824602  0.74678947  0.766444  ]\n"
     ]
    }
   ],
   "source": [
    "all = 0\n",
    "for v in sd_sem:\n",
    "    if v<0.1:\n",
    "        all+=1\n",
    "        \n",
    "print sd_sem\n",
    "print sd_std\n"
   ]
  },
  {
   "cell_type": "markdown",
   "metadata": {},
   "source": [
    "The general rule is that experimental uncertainties should be rounded to one significant digit. For the SEs,  the variability occurs in the hundredths place (e.g., 0.0xxx). Thus, for standard deviation, the number of significant digits need to be two (e.g., 0.82 etc)."
   ]
  }
 ],
 "metadata": {
  "anaconda-cloud": {},
  "kernelspec": {
   "display_name": "Python 2",
   "language": "python",
   "name": "python2"
  },
  "language_info": {
   "codemirror_mode": {
    "name": "ipython",
    "version": 2
   },
   "file_extension": ".py",
   "mimetype": "text/x-python",
   "name": "python",
   "nbconvert_exporter": "python",
   "pygments_lexer": "ipython2",
   "version": "2.7.10"
  }
 },
 "nbformat": 4,
 "nbformat_minor": 1
}
