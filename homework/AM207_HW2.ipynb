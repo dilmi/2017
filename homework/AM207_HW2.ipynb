{
 "cells": [
  {
   "cell_type": "markdown",
   "metadata": {},
   "source": [
    "#  Homework 2\n",
    "\n",
    "## APMTH 207: Stochastic Methods for Data Analysis, Inference and Optimization\n",
    "\n",
    "**Due Date: ** Thursday, Febrary 9th, 2017 at 11:59pm\n",
    "\n",
    "**Instructions:**\n",
    "\n",
    "- Upload your final answers as well as your iPython notebook containing all work to Canvas.\n",
    "\n",
    "- Structure your notebook and your work to maximize readability."
   ]
  },
  {
   "cell_type": "markdown",
   "metadata": {},
   "source": [
    "## Problem 1: Monte Carlo Integration\n",
    "\n",
    "Let $X$ be a random variable with distribution described by the following pdf:\n",
    "\n",
    "$$\n",
    "f_X(x) = \\begin{cases}\n",
    "\\frac{1}{12}(x-1), &1\\leq x\\leq 3\\\\\n",
    "-\\frac{1}{12}(x-5), &3< x\\leq 5\\\\\n",
    "\\frac{1}{6}(x-5), &5< x\\leq 7\\\\\n",
    "-\\frac{1}{6}(x-9), &7< x\\leq 9\\\\\n",
    "0, &otherwise\n",
    "\\end{cases}\n",
    "$$\n",
    "\n",
    "Let $h$ be the following function of $X$:\n",
    "\n",
    "$$\n",
    "h(X) = \\frac{1}{3\\sqrt{2}\\pi}\\mathrm{exp}\\left\\{ -\\frac{1}{18}\\left( X - 5\\right)^2\\right\\}\n",
    "$$\n",
    "\n",
    "Compute $\\mathbb{E}[h(X)]$ via Monte Carlo simulation using the following sampling methods:\n",
    "- inverse transform sampling\n",
    "- rejection sampling with both uniform proposal distribution and normal proposal distribution (steroids) (with appropriately chosen parameters)\n",
    "- importance sampling with both uniform proposal distribution and normal proposal distribution (with appropriately chosen parameters)"
   ]
  },
  {
   "cell_type": "markdown",
   "metadata": {},
   "source": [
    "\n",
    "## Problem 1 Answer:"
   ]
  },
  {
   "cell_type": "code",
   "execution_count": 50,
   "metadata": {
    "collapsed": false,
    "scrolled": false
   },
   "outputs": [
    {
     "data": {
      "image/png": "[encoded data removed]",
      "text/plain": [
       "<matplotlib.figure.Figure at 0x105f33750>"
      ]
     },
     "metadata": {},
     "output_type": "display_data"
    },
    {
     "name": "stdout",
     "output_type": "stream",
     "text": [
      "E[h(X)] - Inv.Trs.Spl: 0.466857846548\n",
      "E[h(X)] - Rej.Spl: 0.468590148943\n",
      "E[h(X)] - Rej.Spl.Std: 0.47337058318\n",
      "E[h(X)] - Imp.Spl: 0.470175994431\n"
     ]
    }
   ],
   "source": [
    "import numpy as np\n",
    "from scipy import stats\n",
    "from scipy.stats import norm\n",
    "import matplotlib.pyplot as plt\n",
    "\n",
    "def f(x):\n",
    "    if x>=1 and x<=3:\n",
    "        return (1.0/12.0)*(x-1)\n",
    "    elif x>3 and x<=5:\n",
    "        return (-1.0/12.0)*(x-5)\n",
    "    elif x>5 and x<=7:\n",
    "        return (1.0/6.0)*(x-5)\n",
    "    elif x>7 and x<=9:\n",
    "        return (-1.0/6.0)*(x-9)\n",
    "    else:\n",
    "        return 0\n",
    "\n",
    "h = lambda X: (1.0/(3*np.sqrt(2)*np.pi))*np.exp((-1.0/18.0)*(X-5)**2)\n",
    "N=1000\n",
    "xmin = 1\n",
    "xmax = 9\n",
    "V = xmax - xmin\n",
    "\n",
    "X = np.linspace(xmin, xmax, N)\n",
    "plt.plot(X, h(X), 'r', label='h(x)')\n",
    "plt.legend()\n",
    "plt.show()\n",
    "\n",
    "#============= Inverse Transform Sampling =============\n",
    "cdf1 = lambda x : (1.0/12.0)*(1.0/2.0*x**2-x)\n",
    "cdf2 = lambda x : (-1.0/12.0)*(1.0/2.0*x**2-5*x)\n",
    "cdf3 = lambda x : (1.0/6.0)*(1.0/2.0*x**2-5*x)\n",
    "cdf4 = lambda x : (-1.0/6.0)*(1.0/2.0*x**2-9*x)\n",
    "\n",
    "# quantized CDFs\n",
    "def CDF(x):\n",
    "    if x>=1 and x<=3:\n",
    "        return cdf1(x)-cdf1(1)\n",
    "    elif x>3 and x<=5:\n",
    "        return (cdf2(x)-cdf2(3))+(cdf1(3)-cdf1(1))\n",
    "    elif x>5 and x<=7:\n",
    "        return (cdf3(x)-cdf3(5))+(cdf2(5)-cdf2(3))+(cdf1(3)-cdf1(1))\n",
    "    elif x>7 and x<=9:\n",
    "        return (cdf4(x)-cdf4(7))+(cdf3(7)-cdf3(5))+(cdf2(5)-cdf2(3))+(cdf1(3)-cdf1(1))\n",
    "    else:\n",
    "        return 0\n",
    "    \n",
    "#  inverse CDP using interpolation\n",
    "def invCDF(p,cdf,xs):\n",
    "    i = np.searchsorted(cdf, p)\n",
    "    if i>0:\n",
    "        a = (p-cdf[i-1])/(cdf[i]-cdf[i-1])\n",
    "        return xs[i-1] + a*(xs[i]-xs[i-1])\n",
    "    return xs[i]\n",
    "\n",
    "def inv_trs_spl():\n",
    "    \n",
    "    # calculate CDFs\n",
    "    xs = np.linspace(xmin, xmax, N)\n",
    "    cdf = np.zeros(N)\n",
    "    for i,x in enumerate(xs):\n",
    "        cdf[i] = CDF(x)\n",
    "\n",
    "    # sample x using inverse CDP\n",
    "    ps = np.random.uniform(low=0, high=1, size=N) \n",
    "    X = np.sort(np.array([invCDF(p, cdf, xs) for p in ps]))\n",
    "    \n",
    "    return V*np.sum(h(X))/N\n",
    "\n",
    "print 'E[h(X)] - Inv.Trs.Spl:', inv_trs_spl()\n",
    "\n",
    "#============= Rejection Sampling =============\n",
    "def rej_spl():\n",
    "    X = np.zeros(N)\n",
    "    accepted = 0\n",
    "    count = 0\n",
    "    ymax = 1/3.0\n",
    "    while (accepted<N):\n",
    "        x = np.random.uniform(low=1, high=9)\n",
    "        y = np.random.uniform(low=0,high=ymax)\n",
    "        if y<f(x):\n",
    "            X[accepted] = x\n",
    "            accepted+=1\n",
    "        count+=1\n",
    "    return V*np.sum(h(X))/N\n",
    "\n",
    "print 'E[h(X)] - Rej.Spl:',rej_spl()\n",
    "\n",
    "def rej_spl_std():\n",
    "    mu = 7.0\n",
    "    sig = 3.5\n",
    "    X = np.zeros(N)\n",
    "    accepted = 0\n",
    "    count = 0\n",
    "    ymax = 1/3.0\n",
    "    while (accepted<N):\n",
    "        x = np.random.normal(mu,sig)\n",
    "        y = np.random.uniform(low=0,high=ymax)\n",
    "        if y<f(x)/(3*stats.norm.pdf(x, mu,sig)):\n",
    "            X[accepted] = x\n",
    "            accepted+=1\n",
    "        count+=1\n",
    "    return V*np.sum(h(X))/N\n",
    "\n",
    "print 'E[h(X)] - Rej.Spl.Std:',rej_spl_std()\n",
    "\n",
    "\n",
    "#============= Importance Sampling =============\n",
    "\n",
    "X = np.linspace(xmin, xmax, N)\n",
    "mu = 5.0\n",
    "sig = 5.0\n",
    "g = lambda x: (1/np.sqrt(2*np.pi*sig**2))*np.exp(-(x-mu)**2/(2.0*sig**2))\n",
    "normfun = lambda x:  norm.cdf(x-mu, scale=sig)\n",
    "\n",
    "def imp_spl():\n",
    "    # draw from gaussian\n",
    "    X = np.zeros(N)\n",
    "    accepted = 0\n",
    "    while accepted<N:\n",
    "        x = np.random.normal(mu,sig)\n",
    "        if (x<xmax) and (x>xmin):\n",
    "            X[accepted] = x\n",
    "            accepted+=1\n",
    "    normal = normfun(xmax)-normfun(xmin);\n",
    "    return np.mean(h(X)/g(X))*normal;\n",
    "\n",
    "print 'E[h(X)] - Imp.Spl:', inv_trs_spl()\n",
    "\n"
   ]
  },
  {
   "cell_type": "markdown",
   "metadata": {},
   "source": [
    "## Problem 2: Variance Reduction\n",
    "\n",
    "### Part A\n",
    "\n",
    "Compute the variance of each estimate of $\\mathbb{E}[h(X)]$ obtained in Problem 1. Based on the discussion on sampling methods in lecture, which sampling methods, proposal distributions is expected, in principle, to resulted in lower variances? How well do your results align with these expectations?\n",
    "\n",
    "### Part B (Stratified Sampling)\n",
    "\n",
    "Often, a complex integral can be computed with more ease if one can break up the domain of the integral into pieces and if on each piece of the domain the integral is simplified. \n",
    "\n",
    "- Find a natural way to divide the domain of $X$ and express $\\mathbb{E}[h(X)]$ as an ***correctly*** weighted sum of integrals over the pieces of the domain of $X$. (This constitutes the essentials of Stratified Sampling)\n",
    "\n",
    "- Estimate each integral in the summand using rejection sampling using a normal proposal distribution (with sensibly chosen parameters). From these, estimate $\\mathbb{E}[h(X)]$.\n",
    "\n",
    "- Compute the variance of your estimate of $\\mathbb{E}[h(X)]$. Compare with the variance of your previous estimate of $\\mathbb{E}[h(X)]$ (in Part A, using rejection sampling, a normal proposal distribution over the entire domain of $X$).\n",
    "\n",
    "Read more about Stratified Sampling:\n",
    "\n",
    "1. [Variance Reduction Techniques Slides](http://www.sta.nus.edu.sg/~zhangjt/teaching/ST4231/lectures/chapter4.pdf)\n",
    "\n",
    "2. [Monte Carlo Methods](http://www.public.iastate.edu/~mervyn/stat580/Notes/s09mc.pdf)\n",
    "\n",
    "3. [Variance Reduction Techniques Chapter](http://sas.uwaterloo.ca/~dlmcleis/s906/chapt4.pdf)"
   ]
  },
  {
   "cell_type": "markdown",
   "metadata": {},
   "source": [
    "## Part A Answer:"
   ]
  },
  {
   "cell_type": "code",
   "execution_count": 51,
   "metadata": {
    "collapsed": false
   },
   "outputs": [
    {
     "name": "stdout",
     "output_type": "stream",
     "text": [
      "progress 0\n",
      "progress 100\n",
      "progress 200\n",
      "progress 300\n",
      "progress 400\n",
      "progress 500\n",
      "progress 600\n",
      "progress 700\n",
      "progress 800\n",
      "progress 900\n",
      "Inv.Trs.Spl: 0.470778582603 0.00250646452828\n",
      "Rej.Spl: 0.470734863356 0.00254518341794\n",
      "Rej.Spl.Std: 0.472150491334 0.0029881709536\n",
      "Imp.Spl: 0.461331675352 0.0022357633489\n"
     ]
    }
   ],
   "source": [
    "\n",
    "m=1000\n",
    "inv = np.zeros(m)\n",
    "rej = np.zeros(m)\n",
    "rej_std = np.zeros(m)\n",
    "imp = np.zeros(m)\n",
    "\n",
    "for i in np.arange(m):\n",
    "    if i%100==0:\n",
    "        print 'progress',i\n",
    "    inv[i] = inv_trs_spl()\n",
    "    rej[i] = rej_spl()\n",
    "    rej_std[i] = rej_spl_std()\n",
    "    imp[i] = imp_spl()\n",
    "\n",
    "print 'Inv.Trs.Spl:', np.mean(inv), np.std(inv)\n",
    "print 'Rej.Spl:', np.mean(rej), np.std(rej)\n",
    "print 'Rej.Spl.Std:', np.mean(rej_std), np.std(rej_std)\n",
    "print 'Imp.Spl:', np.mean(imp), np.std(imp)"
   ]
  },
  {
   "cell_type": "markdown",
   "metadata": {},
   "source": [
    "The importance sampling has the lowest variance as expected, while the rejection sampling has the highest variance. It makes sense as importance sampling tries to draw more samples where h(x) is large. Inverse transform sampling also attempts to sample high-mass regions by using the inverse cumulative distribution function. On the other hand, rejection sampling does not differentiate between high-mass and low-mass regions, resulting in the largest variance."
   ]
  },
  {
   "cell_type": "markdown",
   "metadata": {},
   "source": [
    "## Part B Answer:"
   ]
  },
  {
   "cell_type": "code",
   "execution_count": 53,
   "metadata": {
    "collapsed": false
   },
   "outputs": [
    {
     "name": "stdout",
     "output_type": "stream",
     "text": [
      "progress 0\n",
      "progress 100\n",
      "progress 200\n",
      "progress 300\n",
      "progress 400\n",
      "progress 500\n",
      "progress 600\n",
      "progress 700\n",
      "progress 800\n",
      "progress 900\n",
      "Stf.Spl: 0.466098906157 0.00137007929693\n"
     ]
    }
   ],
   "source": [
    "def xsamples(Umin,Umax, N):\n",
    "    mu = 7.0\n",
    "    sig = 3.5\n",
    "    X = np.zeros(N)\n",
    "    accepted = 0\n",
    "    ymax = 1/3.0\n",
    "    while (accepted<N):\n",
    "        x = np.random.normal(mu,sig)\n",
    "        y = np.random.uniform(low=0,high=ymax)\n",
    "        if (x<Umax) and (x>Umin) and y<f(x)/(3*stats.norm.pdf(x, mu,sig)):\n",
    "            X[accepted] = x\n",
    "            accepted+=1\n",
    "    return X\n",
    "\n",
    "def stf_spl():\n",
    "    Ns = 4\n",
    "    step = (xmax - xmin)/Ns\n",
    "    Umin = 0 \n",
    "    Umax = step\n",
    "    total = 0\n",
    "    for j in np.arange(Ns):\n",
    "        X = xsamples(Umin, Umax, N/Ns)#np.random.uniform(low=Umin, high=Umax, size = N/Ns)        \n",
    "        total = total + (Umax - Umin)* np.mean(h(X))\n",
    "        Umin = Umin + step\n",
    "        Umax = Umin + step\n",
    "    return total\n",
    "\n",
    "stf = np.zeros(m)\n",
    "for i in np.arange(m):\n",
    "    if i%100==0:\n",
    "        print 'progress',i\n",
    "    stf[i] = stf_spl()\n",
    "    \n",
    "\n",
    "\n",
    "print 'Stf.Spl:', np.mean(stf), np.std(stf)\n",
    "    "
   ]
  },
  {
   "cell_type": "markdown",
   "metadata": {},
   "source": [
    "The variance is about twice lower than the previous one without using the stratification."
   ]
  }
 ],
 "metadata": {
  "anaconda-cloud": {},
  "kernelspec": {
   "display_name": "Python 2",
   "language": "python",
   "name": "python2"
  },
  "language_info": {
   "codemirror_mode": {
    "name": "ipython",
    "version": 2
   },
   "file_extension": ".py",
   "mimetype": "text/x-python",
   "name": "python",
   "nbconvert_exporter": "python",
   "pygments_lexer": "ipython2",
   "version": "2.7.10"
  }
 },
 "nbformat": 4,
 "nbformat_minor": 1
}
