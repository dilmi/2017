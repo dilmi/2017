{
 "cells": [
  {
   "cell_type": "markdown",
   "metadata": {
    "deletable": true,
    "editable": true
   },
   "source": [
    "# Homework 4 - Nam Wook Kim (90948148)"
   ]
  },
  {
   "cell_type": "markdown",
   "metadata": {
    "deletable": true,
    "editable": true
   },
   "source": [
    "## APMTH 207:  Stochastic Methods for Data Analysis, Inference and Optimization\n",
    "\n",
    "**Due Date:** Thursday, Febrary 23rd, 2017 at 11:59pm\n",
    "\n",
    "**Instructions:**\n",
    "\n",
    "- Upload your final answers as well as your iPython notebook containing all work to Canvas.\n",
    "\n",
    "- Structure your notebook and your work to maximize readability."
   ]
  },
  {
   "cell_type": "markdown",
   "metadata": {
    "deletable": true,
    "editable": true
   },
   "source": [
    "## Problem 1: Optimization (Continued)\n",
    "\n",
    "Suppose you are building a pricing model for laying down telecom cables over a geographical region. Your model takes as input a pair of  coordinates, $(x, y)$, and contains two parameters, $\\lambda_1, \\lambda_2$. Given a coordinate, $(x, y)$, and model parameters, the loss in revenue corresponding to the price model at location $(x, y)$ is described by\n",
    "$$\n",
    "L(x, y, \\lambda_1, \\lambda_2) = 0.000045\\lambda_2^2 y - 0.000098\\lambda_1^2 x + 0.003926\\lambda_1 x\\exp\\left\\{\\left(y^2 - x^2\\right)\\left(\\lambda_1^2 + \\lambda_2^2\\right)\\right\\}\n",
    "$$\n",
    "Read the data contained in `HW3_data.csv`. This is a set of coordinates configured on the curve $y^2 - x^2 = -0.1$. Given the data, find parameters $\\lambda_1, \\lambda_2$ that minimize the net loss over the entire dataset.\n",
    "\n",
    "### Part A: Further problems with descent algorithms\n",
    "Using your implementation of gradient descent and stochastic gradient descent, document the behaviour of your two algorithms for the following starting points, and for a number of stepsizes of your choice:\n",
    "- $(\\lambda_1, \\lambda_2) = (-2.47865, 0)$\n",
    "- $(\\lambda_1, \\lambda_2) = (-3, 0)$\n",
    "- $(\\lambda_1, \\lambda_2) = (-5, 0)$\n",
    "- $(\\lambda_1, \\lambda_2) = (-10, 0)$\n",
    "\n",
    "Based on your analysis of the loss function $L$, explain what is happening to your descent algorithms."
   ]
  },
  {
   "cell_type": "code",
   "execution_count": 2,
   "metadata": {
    "collapsed": true,
    "deletable": true,
    "editable": true
   },
   "outputs": [],
   "source": [
    "import numpy as np\n",
    "import pandas as pd\n",
    "from scipy import stats \n",
    "import time\n",
    "import matplotlib\n",
    "from mpl_toolkits.mplot3d import Axes3D\n",
    "import matplotlib.pyplot as plt\n",
    "import math\n",
    "from functools import partial\n",
    "%matplotlib inline"
   ]
  },
  {
   "cell_type": "code",
   "execution_count": 6,
   "metadata": {
    "collapsed": false,
    "deletable": true,
    "editable": true
   },
   "outputs": [],
   "source": [
    "x, y = np.genfromtxt('HW3_data.csv', delimiter=',')"
   ]
  },
  {
   "cell_type": "code",
   "execution_count": 8,
   "metadata": {
    "collapsed": true,
    "deletable": true,
    "editable": true
   },
   "outputs": [],
   "source": [
    "x_sum = x.sum()\n",
    "y_sum = y.sum()\n",
    "N = len(x)\n",
    "\n",
    "#Total loss\n",
    "L = lambda l1, l2, x, y: 0.000045 * l2**2 * y.sum() - 0.000098 * l1**2 * x.sum() + 0.003926 * x.sum() * l1 * np.exp(-0.1 * (l1**2 + l2**2))"
   ]
  },
  {
   "cell_type": "code",
   "execution_count": 5,
   "metadata": {
    "collapsed": true,
    "deletable": true,
    "editable": true
   },
   "outputs": [],
   "source": [
    "#The gradient of the total loss function\n",
    "grad = lambda l1, l2, x, y: np.array([-0.000098 * 2 * l1 * x.sum() \n",
    "                                      + 0.003926 *  x.sum() * np.exp(-0.1 * (l1**2 + l2**2)) \n",
    "                                      - 0.003926 * 2 * 0.1 *  x.sum() * l1**2 * np.exp(-0.1 * (l1**2 + l2**2)), \n",
    "                                      2 * 0.000045 * l2 * y.sum() \n",
    "                                      - 0.1 * 2* 0.003926 *  x.sum() * l1 * l2 * np.exp(-0.1 * (l1**2 + l2**2))])"
   ]
  },
  {
   "cell_type": "code",
   "execution_count": 6,
   "metadata": {
    "collapsed": true,
    "deletable": true,
    "editable": true
   },
   "outputs": [],
   "source": [
    "#Gradient Descent\n",
    "def gradient_descent(x, y, lambdas_init, init_shuffle=False, step_size=0.001, maxsteps=None, precision=1e-3, scaling=1.):\n",
    "    \n",
    "    lambdas = lambdas_init\n",
    "    history = [lambdas] # to store all parameters\n",
    "    counter = 0\n",
    "\n",
    "    #if you want to shuffle the data before doing descent\n",
    "    if init_shuffle:\n",
    "        shuffle = np.random.permutation(N)\n",
    "        x = x[shuffle]\n",
    "        y = y[shuffle]\n",
    "\n",
    "    #Do descent while stopping condition not met\n",
    "    while np.linalg.norm(history[-1] - np.array([2.05384, 0])) > precision:\n",
    "        #get gradient of average loss function\n",
    "        gradient = grad(lambdas[0], lambdas[1], x, y) * 1. / N\n",
    "        #take one step in the gradient direction, scaling is just a scaling factor that adjusts the stepsize\n",
    "        #of course you can just directly adjust the stepsize\n",
    "        lambdas = lambdas -  step_size * gradient * scaling \n",
    "        #add our new parameters to the history\n",
    "        history.append(lambdas)\n",
    "        #tick off one more step\n",
    "        counter +=1\n",
    "        \n",
    "        #if we've hit maximum steps allowed, stop!\n",
    "        if maxsteps is not None:\n",
    "            if counter == maxsteps:\n",
    "                break\n",
    "        \n",
    "    return history"
   ]
  },
  {
   "cell_type": "code",
   "execution_count": 7,
   "metadata": {
    "collapsed": false,
    "deletable": true,
    "editable": true
   },
   "outputs": [],
   "source": [
    "#Stochastic Gradient Descent\n",
    "def sgd(x, y, lambdas_init, init_shuffle=False, step_size=0.001, max_epochs=1, precision=1e-3, scaling=1.):\n",
    "    lambdas = lambdas_init\n",
    "    history = [lambdas] # to store all thetas\n",
    "\n",
    "    counter = 0\n",
    "    epochs = 0\n",
    "    i = 0 #index\n",
    "        \n",
    "    #if you want to shuffle the data before doing descent\n",
    "    if init_shuffle:\n",
    "        shuffle = np.random.permutation(N)\n",
    "        x = x[shuffle]\n",
    "        y = y[shuffle]    \n",
    "    \n",
    "    #run through the data in multiple passes\n",
    "    for epoch in range(max_epochs):\n",
    "        #for each data point, compute the gradient and make an update to our parameters\n",
    "#         print 'epoch: ', epoch \n",
    "        for i in range(N):\n",
    "            #get gradient of average loss function\n",
    "            gradient = grad(lambdas[0], lambdas[1], x[i], y[i])\n",
    "            #take one step in the gradient direction, scaling is just a scaling factor that adjusts the stepsize\n",
    "            #of course you can just directly adjust the stepsize\n",
    "            lambdas = lambdas -  step_size * gradient * scaling \n",
    "            #add our new parameters to the history\n",
    "            history.append(lambdas)   \n",
    "            \n",
    "            if np.linalg.norm(np.array(lambdas) - np.array([2.05384, 0])) < precision:\n",
    "                return history, epoch\n",
    "            elif np.any(np.isnan(lambdas)):\n",
    "                return history[:-1], epoch\n",
    "        \n",
    "        #shuffle the data for the next pass thru\n",
    "        shuffle = np.random.permutation(N)\n",
    "        x = x[shuffle]\n",
    "        y = y[shuffle]\n",
    "    \n",
    "    return history, max_epochs"
   ]
  },
  {
   "cell_type": "code",
   "execution_count": 14,
   "metadata": {
    "collapsed": false,
    "deletable": true,
    "editable": true
   },
   "outputs": [
    {
     "name": "stdout",
     "output_type": "stream",
     "text": [
      "\n"
     ]
    }
   ],
   "source": [
    "def test(lambdas_inits, step_size=0.001):\n",
    "    print '\\n---------------------- step_size:', step_size, '----------------------\\n'\n",
    "    gd_losses = []\n",
    "    sgd_losses = []\n",
    "    for lambdas_init in lambdas_inits:\n",
    "        print '\\n****************** lambda init:', lambdas_init, '******************\\n'\n",
    "        print '1. GD'\n",
    "        history = gradient_descent(x, y, lambdas_init, step_size=step_size, scaling=1000., maxsteps=100000)\n",
    "        history = np.array(history)\n",
    "\n",
    "        lambdas = history[-1]\n",
    "        costs = L(history[:, 0], history[:, 1], x, y)\n",
    "\n",
    "        print '- how many iters: ', len(history)\n",
    "        print '- final cost:', costs[-1]\n",
    "        print '- precision to actual param:', np.linalg.norm(lambdas - [2.05384, 0])\n",
    "        print '\\n'\n",
    "\n",
    "        gd_losses.append(costs[-1])\n",
    "\n",
    "        print '2. SGD'\n",
    "        history, epoch = sgd(x, y, lambdas_init, init_shuffle=True, step_size=step_size, max_epochs=8, scaling=1000.)\n",
    "        history = np.array(history)\n",
    "\n",
    "        lambdas = history[-1]\n",
    "        costs = L(history[:, 0], history[:, 1], x, y) \n",
    "\n",
    "        print '- how many iters: ', len(history)\n",
    "        print '- final cost:', costs[-1]\n",
    "        print '- precision to actual param:', np.linalg.norm(lambdas - [2.05384, 0])\n",
    "        print '\\n'\n",
    "\n",
    "        sgd_losses.append(costs[-1])\n",
    "        \n",
    "    return gd_losses, sgd_losses\n"
   ]
  },
  {
   "cell_type": "code",
   "execution_count": 16,
   "metadata": {
    "collapsed": false,
    "deletable": true,
    "editable": true
   },
   "outputs": [
    {
     "name": "stdout",
     "output_type": "stream",
     "text": [
      "\n",
      "---------------------- step_size: 0.1 ----------------------\n",
      "\n",
      "\n",
      "****************** lambda init: [-2.47865, 0] ******************\n",
      "\n",
      "1. GD\n",
      "- how many iters:  100001\n",
      "- final cost: 8.16152869937\n",
      "- precision to actual param: 7.41708926028\n",
      "\n",
      "\n",
      "2. SGD\n",
      "- how many iters:  25460\n",
      "- final cost: -9.93410204361\n",
      "- precision to actual param: 0.000877201161326\n",
      "\n",
      "\n",
      "\n",
      "****************** lambda init: [-3, 0] ******************\n",
      "\n",
      "1. GD\n",
      "- how many iters:  100001\n",
      "- final cost: 8.16152869937\n",
      "- precision to actual param: 7.41708926028\n",
      "\n",
      "\n",
      "2. SGD\n",
      "- how many iters:  6586\n",
      "- final cost: -9.93410402225\n",
      "- precision to actual param: 2.69640235571e-05\n",
      "\n",
      "\n",
      "\n",
      "****************** lambda init: [-5, 0] ******************\n",
      "\n",
      "1. GD\n",
      "- how many iters:  100001\n",
      "- final cost: 8.16152869937\n",
      "- precision to actual param: 7.41708926028\n",
      "\n",
      "\n",
      "2. SGD\n",
      "- how many iters:  44577\n",
      "- final cost: -9.93410223605\n",
      "- precision to actual param: 0.000833079970987\n",
      "\n",
      "\n",
      "\n",
      "****************** lambda init: [-10, 0] ******************\n",
      "\n",
      "1. GD\n",
      "- how many iters:  100001\n",
      "- final cost: 8.16152869937\n",
      "- precision to actual param: 7.41708926028\n",
      "\n",
      "\n",
      "2. SGD\n",
      "- how many iters:  39221\n",
      "- final cost: -9.93410369133\n",
      "- precision to actual param: 0.000372891185811\n",
      "\n",
      "\n"
     ]
    },
    {
     "data": {
      "image/png": "[encoded data removed]",
      "text/plain": [
       "<matplotlib.figure.Figure at 0x10374a9d0>"
      ]
     },
     "metadata": {},
     "output_type": "display_data"
    }
   ],
   "source": [
    "lambdas_inits = [[-2.47865,0], [-3,0], [-5,0], [-10,0]]\n",
    "\n",
    "step_size = 0.1\n",
    "gd_losses, sgd_losses = test(lambdas_inits, step_size)\n",
    "\n",
    "ind = np.arange(len(gd_losses))\n",
    "width = 0.35 \n",
    "\n",
    "fig, ax = plt.subplots()\n",
    "rects1 = ax.bar(ind, gd_losses, width, color='r')\n",
    "rects2 = ax.bar(ind + width, sgd_losses, width, color='b')\n",
    "\n",
    "ax.set_ylabel('Loss')\n",
    "ax.set_title('Loss. Step size='+str(step_size))\n",
    "ax.set_xticks(ind + width / 2)\n",
    "ax.set_xticklabels(('[-2.47865,0]', '[-3,0]', '[-5, 0]', '[-10, 0]'))\n",
    "ax.legend((rects1[0], rects2[0]), ('GD', 'SGD'))\n",
    "plt.show()"
   ]
  },
  {
   "cell_type": "code",
   "execution_count": 19,
   "metadata": {
    "collapsed": false,
    "deletable": true,
    "editable": true
   },
   "outputs": [
    {
     "name": "stdout",
     "output_type": "stream",
     "text": [
      "\n",
      "---------------------- step_size: 0.01 ----------------------\n",
      "\n",
      "\n",
      "****************** lambda init: [-2.47865, 0] ******************\n",
      "\n",
      "1. GD\n",
      "- how many iters:  100001\n",
      "- final cost: 8.16152869937\n",
      "- precision to actual param: 7.41708926027\n",
      "\n",
      "\n",
      "2. SGD\n",
      "- how many iters:  128001\n",
      "- final cost: 11.9545803086\n",
      "- precision to actual param: 4.53248625197\n",
      "\n",
      "\n",
      "\n",
      "****************** lambda init: [-3, 0] ******************\n",
      "\n",
      "1. GD\n",
      "- how many iters:  100001\n",
      "- final cost: 8.16152869937\n",
      "- precision to actual param: 7.41708926027\n",
      "\n",
      "\n",
      "2. SGD\n",
      "- how many iters:  128001\n",
      "- final cost: 11.9545803086\n",
      "- precision to actual param: 4.53248625197\n",
      "\n",
      "\n",
      "\n",
      "****************** lambda init: [-5, 0] ******************\n",
      "\n",
      "1. GD\n",
      "- how many iters:  100001\n",
      "- final cost: 8.16152869937\n",
      "- precision to actual param: 7.41708926027\n",
      "\n",
      "\n",
      "2. SGD\n",
      "- how many iters:  128001\n",
      "- final cost: 8.16152869937\n",
      "- precision to actual param: 7.41708926028\n",
      "\n",
      "\n",
      "\n",
      "****************** lambda init: [-10, 0] ******************\n",
      "\n",
      "1. GD\n",
      "- how many iters:  100001\n",
      "- final cost: 8.16152869937\n",
      "- precision to actual param: 7.41708926028\n",
      "\n",
      "\n",
      "2. SGD\n",
      "- how many iters:  128001\n",
      "- final cost: 8.16152869937\n",
      "- precision to actual param: 7.41708926028\n",
      "\n",
      "\n"
     ]
    },
    {
     "data": {
      "image/png": "[encoded data removed]",
      "text/plain": [
       "<matplotlib.figure.Figure at 0x10375b550>"
      ]
     },
     "metadata": {},
     "output_type": "display_data"
    }
   ],
   "source": [
    "lambdas_inits = [[-2.47865,0], [-3,0], [-5,0], [-10,0]]\n",
    "\n",
    "step_size = 0.01\n",
    "gd_losses, sgd_losses = test(lambdas_inits, step_size)\n",
    "\n",
    "ind = np.arange(len(gd_losses))\n",
    "width = 0.35 \n",
    "\n",
    "fig, ax = plt.subplots()\n",
    "rects1 = ax.bar(ind, gd_losses, width, color='r')\n",
    "rects2 = ax.bar(ind + width, sgd_losses, width, color='b')\n",
    "\n",
    "ax.set_ylabel('Loss')\n",
    "ax.set_title('Loss. Step size='+str(step_size))\n",
    "ax.set_xticks(ind + width / 2)\n",
    "ax.set_xticklabels(('[-2.47865,0]', '[-3,0]', '[-5, 0]', '[-10, 0]'))\n",
    "ax.legend((rects1[0], rects2[0]), ('GD', 'SGD'))\n",
    "plt.show()"
   ]
  },
  {
   "cell_type": "code",
   "execution_count": 24,
   "metadata": {
    "collapsed": false,
    "deletable": true,
    "editable": true
   },
   "outputs": [
    {
     "name": "stdout",
     "output_type": "stream",
     "text": [
      "\n",
      "---------------------- step_size: 0.001 ----------------------\n",
      "\n",
      "\n",
      "****************** lambda init: [-2.47865, 0] ******************\n",
      "\n",
      "1. GD\n",
      "- how many iters:  100001\n",
      "- final cost: 8.16251470164\n",
      "- precision to actual param: 7.38334433089\n",
      "\n",
      "\n",
      "2. SGD\n",
      "- how many iters:  128001\n",
      "- final cost: 11.9545803086\n",
      "- precision to actual param: 4.53248625197\n",
      "\n",
      "\n",
      "\n",
      "****************** lambda init: [-3, 0] ******************\n",
      "\n",
      "1. GD\n",
      "- how many iters:  100001\n",
      "- final cost: 8.16152870393\n",
      "- precision to actual param: 7.41701665634\n",
      "\n",
      "\n",
      "2. SGD\n",
      "- how many iters:  128001\n",
      "- final cost: 11.9545803086\n",
      "- precision to actual param: 4.53248625197\n",
      "\n",
      "\n",
      "\n",
      "****************** lambda init: [-5, 0] ******************\n",
      "\n",
      "1. GD\n",
      "- how many iters:  100001\n",
      "- final cost: 8.16152869942\n",
      "- precision to actual param: 7.41708202146\n",
      "\n",
      "\n",
      "2. SGD\n",
      "- how many iters:  128001\n",
      "- final cost: 8.16152869937\n",
      "- precision to actual param: 7.41708926028\n",
      "\n",
      "\n",
      "\n",
      "****************** lambda init: [-10, 0] ******************\n",
      "\n",
      "1. GD\n",
      "- how many iters:  100001\n",
      "- final cost: 8.16152873345\n",
      "- precision to actual param: 7.41728772702\n",
      "\n",
      "\n",
      "2. SGD\n",
      "- how many iters:  128001\n",
      "- final cost: 8.16152869937\n",
      "- precision to actual param: 7.41708926028\n",
      "\n",
      "\n"
     ]
    },
    {
     "data": {
      "image/png": "[encoded data removed]",
      "text/plain": [
       "<matplotlib.figure.Figure at 0x108262890>"
      ]
     },
     "metadata": {},
     "output_type": "display_data"
    }
   ],
   "source": [
    "lambdas_inits = [[-2.47865,0], [-3,0], [-5,0], [-10,0]]\n",
    "\n",
    "step_size = 0.001\n",
    "gd_losses, sgd_losses = test(lambdas_inits, step_size)\n",
    "\n",
    "ind = np.arange(len(gd_losses))\n",
    "width = 0.35 \n",
    "\n",
    "fig, ax = plt.subplots()\n",
    "rects1 = ax.bar(ind, gd_losses, width, color='r')\n",
    "rects2 = ax.bar(ind + width, sgd_losses, width, color='b')\n",
    "\n",
    "ax.set_ylabel('Loss')\n",
    "ax.set_title('Loss. Step size='+str(step_size))\n",
    "ax.set_xticks(ind + width / 2)\n",
    "ax.set_xticklabels(('[-2.47865,0]', '[-3,0]', '[-5, 0]', '[-10, 0]'))\n",
    "ax.legend((rects1[0], rects2[0]), ('GD', 'SGD'))\n",
    "plt.show()"
   ]
  },
  {
   "cell_type": "markdown",
   "metadata": {
    "deletable": true,
    "editable": true
   },
   "source": [
    "Maybe I am wrong, but it is difficult to see any significant trends across different initial parameters. \n",
    "\n",
    "For the step size 0.01 and 0.001, SGD seems to decrease in loss as the init param is further away from the global minimum. "
   ]
  },
  {
   "cell_type": "markdown",
   "metadata": {
    "deletable": true,
    "editable": true
   },
   "source": [
    "### Part B: Simulated Annealing\n",
    "Implement Simulated Annealing initalized at $(\\lambda_1, \\lambda_2) = (-5, 0)$ to minimize our lost function $L$. Compare your results to what you obtained for gradient descent and stochastic gradient descent initialized at $(\\lambda_1, \\lambda_2) = (-5, 0)$.\n",
    "\n",
    "For your Simulated Annealing implementation, we suggest *starting* with following settings for parameters (you should further experiment with and tweak these or feel free to set your own):\n",
    "\n",
    "- Proposal distribution: bivariate normal with covariance $[[1, 0], [0, 1]]$\n",
    "- Min Length: 500\n",
    "- Max Temperature: 10\n",
    "\n",
    "You should also set your own cooling schedule.\n",
    "\n",
    "**Extra Credit**\n",
    "For each temperature, plot the parameters accepted or the cost function with respect to the iteration number. What is happening to the these parameters or costs over iterations? Connect the trends you observe in the visualization to the lecture on Markov Chains."
   ]
  },
  {
   "cell_type": "code",
   "execution_count": 29,
   "metadata": {
    "collapsed": false,
    "deletable": true,
    "editable": true
   },
   "outputs": [],
   "source": [
    "\n",
    "# proposal distribution\n",
    "pfxs = lambda s, x: x + s*np.random.multivariate_normal([0,0],[[1,0],[0,1]])\n",
    "pf = partial(pfxs, 0.1)\n",
    "\n",
    "tf = lambda t: 0.8*t #temperature function\n",
    "itf = lambda length: int(math.ceil(1.2*length)) #iteration function\n",
    "\n",
    "f = partial(L, x=x, y=y)"
   ]
  },
  {
   "cell_type": "code",
   "execution_count": 33,
   "metadata": {
    "collapsed": true
   },
   "outputs": [],
   "source": [
    "def sa(ef, inits, epochs, tf, itf, pf):\n",
    "    acc = []\n",
    "    best_sol = old_sol = inits['sol']\n",
    "    T = inits['T']\n",
    "    length = inits['len']\n",
    "    best_eng = old_eng = ef(*old_sol)\n",
    "    accepted = 0\n",
    "    total = 0\n",
    "    for i in xrange(epochs):\n",
    "        print 'Epoch', i\n",
    "        if i>0:\n",
    "            T = tf(T)\n",
    "            length = itf(length)\n",
    "        print 'T:', T, ', Length:', length\n",
    "        for it in xrange(length):\n",
    "            total+=1\n",
    "            new_sol = pf(old_sol)\n",
    "            new_eng  = ef(*new_sol)\n",
    "            alpha = min(1, np.exp((old_eng-new_eng)/T))\n",
    "            if ((new_eng < old_eng) or (np.random.uniform() < alpha)):\n",
    "                accepted +=1\n",
    "                acc.append((T, new_sol, new_eng))\n",
    "                if new_eng < best_eng:\n",
    "                    best_eng = new_eng\n",
    "                    best_sol = new_sol\n",
    "                    best_idx = total\n",
    "                    best_temp = T \n",
    "                old_eng = new_eng\n",
    "                old_sol = new_sol\n",
    "            else:\n",
    "                acc.append((T,old_sol,old_eng))\n",
    "                \n",
    "    best_meta = dict(index = best_idx, temp = best_temp)\n",
    "    print(\"frac accepted\", accepted/total, \"total iterations\", total, 'bmeta', best_meta)\n",
    "    return best_meta, best_sol, best_eng, acc"
   ]
  },
  {
   "cell_type": "code",
   "execution_count": 34,
   "metadata": {
    "collapsed": false
   },
   "outputs": [
    {
     "name": "stdout",
     "output_type": "stream",
     "text": [
      "Epoch 0\n",
      "T: 10 , Length: 500\n",
      "Epoch 1\n",
      "T: 8.0 , Length: 600\n",
      "Epoch 2\n",
      "T: 6.4 , Length: 720\n",
      "Epoch 3\n",
      "T: 5.12 , Length: 864\n",
      "Epoch 4\n",
      "T: 4.096 , Length: 1037\n",
      "Epoch 5\n",
      "T: 3.2768 , Length: 1245\n",
      "Epoch 6\n",
      "T: 2.62144 , Length: 1494\n",
      "Epoch 7\n",
      "T: 2.097152 , Length: 1793\n",
      "Epoch 8\n",
      "T: 1.6777216 , Length: 2152\n",
      "Epoch 9\n",
      "T: 1.34217728 , Length: 2583\n",
      "Epoch 10\n",
      "T: 1.073741824 , Length: 3100\n",
      "Epoch 11\n",
      "T: 0.8589934592 , Length: 3720\n",
      "Epoch 12\n",
      "T: 0.68719476736 , Length: 4464\n",
      "Epoch 13\n",
      "T: 0.549755813888 , Length: 5357\n",
      "Epoch 14\n",
      "T: 0.43980465111 , Length: 6429\n",
      "Epoch 15\n",
      "T: 0.351843720888 , Length: 7715\n",
      "Epoch 16\n",
      "T: 0.281474976711 , Length: 9258\n",
      "Epoch 17\n",
      "T: 0.225179981369 , Length: 11110\n",
      "Epoch 18\n",
      "T: 0.180143985095 , Length: 13332\n",
      "Epoch 19\n",
      "T: 0.144115188076 , Length: 15999\n",
      "Epoch 20\n",
      "T: 0.115292150461 , Length: 19199\n",
      "Epoch 21\n",
      "T: 0.0922337203685 , Length: 23039\n",
      "Epoch 22\n",
      "T: 0.0737869762948 , Length: 27647\n",
      "Epoch 23\n",
      "T: 0.0590295810359 , Length: 33177\n",
      "Epoch 24\n",
      "T: 0.0472236648287 , Length: 39813\n",
      "Epoch 25\n",
      "T: 0.037778931863 , Length: 47776\n",
      "Epoch 26\n",
      "T: 0.0302231454904 , Length: 57332\n",
      "Epoch 27\n",
      "T: 0.0241785163923 , Length: 68799\n",
      "Epoch 28\n",
      "T: 0.0193428131138 , Length: 82559\n",
      "Epoch 29\n",
      "T: 0.0154742504911 , Length: 99071\n",
      "('frac accepted', 0, 'total iterations', 591884, 'bmeta', {'index': 61943, 'temp': 0.22517998136852502})\n"
     ]
    }
   ],
   "source": [
    "inits=dict(sol=[-5,0], len=500, T=10)\n",
    "bmeta, bs, be, out = sa(f, inits, 30, tf, itf, pf)"
   ]
  },
  {
   "cell_type": "code",
   "execution_count": 35,
   "metadata": {
    "collapsed": false
   },
   "outputs": [
    {
     "data": {
      "text/plain": [
       "array([  2.05374087e+00,   1.60707616e-04])"
      ]
     },
     "execution_count": 35,
     "metadata": {},
     "output_type": "execute_result"
    }
   ],
   "source": [
    "bs"
   ]
  },
  {
   "cell_type": "code",
   "execution_count": 36,
   "metadata": {
    "collapsed": false
   },
   "outputs": [
    {
     "data": {
      "text/plain": [
       "-9.9341039630229275"
      ]
     },
     "execution_count": 36,
     "metadata": {},
     "output_type": "execute_result"
    }
   ],
   "source": [
    "be"
   ]
  },
  {
   "cell_type": "code",
   "execution_count": 38,
   "metadata": {
    "collapsed": false
   },
   "outputs": [
    {
     "name": "stdout",
     "output_type": "stream",
     "text": [
      "- final cost: -9.93410396302\n",
      "- precision to actual param: 0.000188821922947\n"
     ]
    }
   ],
   "source": [
    "print '- final cost:', be\n",
    "print '- precision to actual param:', np.linalg.norm(bs - [2.05384, 0])"
   ]
  },
  {
   "cell_type": "markdown",
   "metadata": {},
   "source": [
    "The result is comparable to that of SGD (step size = 0.1, init = [-5,0])"
   ]
  }
 ],
 "metadata": {
  "anaconda-cloud": {},
  "kernelspec": {
   "display_name": "Python 2",
   "language": "python",
   "name": "python2"
  },
  "language_info": {
   "codemirror_mode": {
    "name": "ipython",
    "version": 2
   },
   "file_extension": ".py",
   "mimetype": "text/x-python",
   "name": "python",
   "nbconvert_exporter": "python",
   "pygments_lexer": "ipython2",
   "version": "2.7.10"
  }
 },
 "nbformat": 4,
 "nbformat_minor": 1
}
