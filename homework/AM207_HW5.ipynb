{
 "cells": [
  {
   "cell_type": "markdown",
   "metadata": {
    "deletable": true,
    "editable": true
   },
   "source": [
    "#  Homework 5\n",
    "\n",
    "## APMTH 207: Stochastic Methods for Data Analysis, Inference and Optimization\n",
    "\n",
    "**Due Date: ** Thursday, March 2nd, 2017 at 11:59pm\n",
    "\n",
    "**Instructions:**\n",
    "\n",
    "- Upload your final answers as well as your iPython notebook containing all work to Canvas.\n",
    "\n",
    "- Structure your notebook and your work to maximize readability."
   ]
  },
  {
   "cell_type": "markdown",
   "metadata": {
    "deletable": true,
    "editable": true
   },
   "source": [
    "## Problem 1: Monte Carlo and Simulation Revisited\n",
    "In Homework #2, we used simulation to compute the expected values of functions of random variables. That is, given a random variable $X$, defined over $\\mathbb{R}$, distributed according to the pdf $f_X$, and given a real-valued function of $X$, $h(X)$, we approximated $\\mathbb{E}[h(X)]$ as follows\n",
    "$$\n",
    "\\mathbb{E}[h(X)] = \\int_{\\mathbb{R}} h(x)f_X(x) dx \\approx \\frac{1}{N} \\sum_{i=1}^N h(X_i), \\quad X_i \\sim f_X\n",
    "$$\n",
    "\n",
    "Now, suppose that, instead of being given the distribution $f_X$ and $h(X)$, you were simply asked to evaluate the following complex integral:\n",
    "$$\n",
    "I=\\int_{0}^{\\infty} \\frac{x^4\\, \\sin\\left(\\sqrt{\\ln{(x+1)}}\\right)e^{-x}}{2+(x-4)^2} \\, dx \n",
    "$$\n",
    "A clever way to apply our Monte Carlo techniques would be to split the integrand as $h(x)f_X(x)$, and then approximate the integral as we have done in Homework #2:\n",
    "$$\n",
    "I = \\int_{0}^{\\infty} h(x)\\,f_X(x) dx  \\approx \\frac{1}{N} \\sum\\limits_{i=1}^{N} h(X_i)$$ \n",
    "where the $X_i$'s are independently drawn from $f_X(x)$. \n",
    "\n",
    "We denote the approximation of the integral as follows\n",
    "$$\\hat{I} = \\frac{1}{N} \\sum\\limits_{i=1}^{N} h(X_i), \\quad X_i \\sim f_X.$$\n",
    "\n",
    "\n",
    "### Part A:\n",
    "\n",
    "Rewrite your integrand as a product of two functions, $h(x)g(x)$, which can then be expressed as $h(x)f_X(x)$, where $f_X$ is a pdf (you may use one of the splits we propose in Part B or create your own). Explain why your choice of $h$ is appropriate. Explain why your choice of $g$ is appropriate for creating a pdf $f_X$.\n",
    "\n",
    "(**Hint:** think about what you would have to do do turn $g$ into a good pdf and $h$ into a function that can be evaluated at multiple samples from this pdf. Think about how to choose these two functions to make your Monte Carlo approximation of $I$ as accurate as possible.)"
   ]
  },
  {
   "cell_type": "code",
   "execution_count": 1,
   "metadata": {
    "collapsed": true,
    "deletable": true,
    "editable": true
   },
   "outputs": [],
   "source": [
    "import numpy as np\n",
    "from scipy import stats\n",
    "from scipy.stats import norm\n",
    "import matplotlib.pyplot as plt"
   ]
  },
  {
   "cell_type": "code",
   "execution_count": 2,
   "metadata": {
    "collapsed": true,
    "deletable": true,
    "editable": true
   },
   "outputs": [],
   "source": [
    "g = lambda x: x*np.exp(-x)\n",
    "h = lambda x:(np.power(x,3)*np.sin(np.sqrt(np.log(x+1))))/(2+np.power(x-4,2))"
   ]
  },
  {
   "cell_type": "code",
   "execution_count": 3,
   "metadata": {
    "collapsed": false,
    "deletable": true,
    "editable": true
   },
   "outputs": [
    {
     "data": {
      "image/png": "[encoded data removed]",
      "text/plain": [
       "<matplotlib.figure.Figure at 0x11179ddd0>"
      ]
     },
     "metadata": {},
     "output_type": "display_data"
    }
   ],
   "source": [
    "xx = np.linspace(0,10,100)\n",
    "\n",
    "fig, axarr = plt.subplots(2)\n",
    "                        \n",
    "\n",
    "axarr[0].plot(xx,g(xx),'r')\n",
    "axarr[0].set_title('g(x)')\n",
    "\n",
    "\n",
    "axarr[1].plot(xx,h(xx),'r')\n",
    "axarr[1].set_title('h(x)')\n",
    "plt.tight_layout()\n",
    "plt.show()"
   ]
  },
  {
   "cell_type": "code",
   "execution_count": 4,
   "metadata": {
    "collapsed": false,
    "deletable": true,
    "editable": true
   },
   "outputs": [],
   "source": [
    "g = lambda x: 1.0/(2+np.power(x-4,2))\n",
    "h = lambda x:(np.power(x,4)*np.sin(np.sqrt(np.log(x+1))))*np.exp(-x)"
   ]
  },
  {
   "cell_type": "code",
   "execution_count": 5,
   "metadata": {
    "collapsed": false,
    "deletable": true,
    "editable": true
   },
   "outputs": [
    {
     "data": {
      "image/png": "[encoded data removed]",
      "text/plain": [
       "<matplotlib.figure.Figure at 0x1119dfc50>"
      ]
     },
     "metadata": {},
     "output_type": "display_data"
    }
   ],
   "source": [
    "xx = np.linspace(0,10,100)\n",
    "\n",
    "fig, axarr = plt.subplots(2)\n",
    "                        \n",
    "\n",
    "axarr[0].plot(xx,g(xx),'r')\n",
    "axarr[0].set_title('g(x)')\n",
    "\n",
    "\n",
    "axarr[1].plot(xx,h(xx),'r')\n",
    "axarr[1].set_title('h(x)')\n",
    "plt.tight_layout()\n",
    "plt.show()"
   ]
  },
  {
   "cell_type": "markdown",
   "metadata": {
    "deletable": true,
    "editable": true
   },
   "source": [
    "$h(x)=xe^{-x}$\n",
    "\n",
    "$g(x)= \\frac{x^3\\, \\sin\\left(\\sqrt{\\ln{(x+1)}}\\right)}{(2+(x-4)^2)} $\n",
    "\n",
    "This seems better, since $g(x)$ is close to a gamma distribution whose sum is equal to 1, defined in [0, inf]."
   ]
  },
  {
   "cell_type": "markdown",
   "metadata": {
    "deletable": true,
    "editable": true
   },
   "source": [
    "### Part B:"
   ]
  },
  {
   "cell_type": "code",
   "execution_count": 278,
   "metadata": {
    "collapsed": false,
    "deletable": true,
    "editable": true
   },
   "outputs": [],
   "source": [
    "from scipy.stats import gamma\n",
    "\n",
    "def metropolis(p, qdraw, nsamp, xinit):\n",
    "    samples=np.empty(nsamp)\n",
    "    x_prev = xinit\n",
    "    for i in range(nsamp):\n",
    "        x_star = qdraw(x_prev)\n",
    "        p_star = p(x_star)\n",
    "        p_prev = p(x_prev)\n",
    "        pdfratio = p_star/p_prev\n",
    "        if np.random.uniform() < min(1, pdfratio):\n",
    "            samples[i] = x_star\n",
    "            x_prev = x_star\n",
    "        else:#we always get a sample\n",
    "            samples[i]= x_prev\n",
    "            \n",
    "    return samples\n",
    "\n",
    "def prop(x):\n",
    "    return np.random.normal(x, 0.6)\n",
    "\n",
    "# def metropolis_hastings(p,q, qdraw, nsamp, xinit):\n",
    "#     samples=np.empty(nsamp)\n",
    "#     x_prev = xinit\n",
    "#     accepted=0\n",
    "#     for i in xrange(nsamp):\n",
    "#         x_star = qdraw(x_prev)\n",
    "#         print x_star\n",
    "#         if x_star == 0:\n",
    "#             print x_prev, x_star, '===0'\n",
    "            \n",
    "#         p_star = p(x_star)\n",
    "#         p_prev = p(x_prev)\n",
    "#         pdfratio = p_star/p_prev\n",
    "#         proposalratio = q(x_prev, x_star)/q(x_star, x_prev)\n",
    "        \n",
    "#         if np.random.uniform() < min(1, pdfratio*proposalratio):\n",
    "#             samples[i] = x_star\n",
    "#             x_prev = x_star\n",
    "#             accepted +=1\n",
    "#         else:#we always get a sample\n",
    "#             samples[i]= x_prev\n",
    "            \n",
    "#     return samples, accepted\n",
    "\n",
    "# t=10\n",
    "# def gammapdf(x_new, x_old):\n",
    "#     return gamma.pdf(x_new,x_old*t,scale=1/t)\n",
    "# def gammadraw(x_old):\n",
    "#     return gamma.rvs(x_old*t,scale=1/t)"
   ]
  },
  {
   "cell_type": "markdown",
   "metadata": {
    "deletable": true,
    "editable": true
   },
   "source": [
    "- Use $\\frac{1}{2+(x-4)^2}$ to create your pdf $f_X$. Implement a Metropolis algorithm to sample from $f_X$. Run the simulation 50 times for 150,000 points. Report the value of $\\hat{I}$ and that of Var[${\\hat{I}}$]."
   ]
  },
  {
   "cell_type": "code",
   "execution_count": 309,
   "metadata": {
    "collapsed": false,
    "deletable": true,
    "editable": true
   },
   "outputs": [],
   "source": [
    "nf = (np.pi/np.sqrt(2))\n",
    "g = lambda x: 0 if x<0 else (1.0/(2+np.power(x-4,2)))/nf\n",
    "h = lambda x: (np.power(x,4)*np.sin(np.sqrt(np.log(x+1))))*np.exp(-x)"
   ]
  },
  {
   "cell_type": "code",
   "execution_count": 312,
   "metadata": {
    "collapsed": false,
    "deletable": true,
    "editable": true
   },
   "outputs": [
    {
     "name": "stdout",
     "output_type": "stream",
     "text": [
      "Iteration 0 :  3.1022172756\n",
      "Iteration 1 :  2.92700637236\n",
      "Iteration 2 :  3.0897331421\n",
      "Iteration 3 :  3.0209364541\n",
      "Iteration 4 :  3.07646856942\n",
      "Iteration 5 :  3.1302172592\n",
      "Iteration 6 :  3.13618252864\n",
      "Iteration 7 :  3.00629355807\n",
      "Iteration 8 :  3.22785654677\n",
      "Iteration 9 :  3.08353175684\n",
      "Iteration 10 :  3.12042307901\n",
      "Iteration 11 :  3.11647631417\n",
      "Iteration 12 :  2.99913476584\n",
      "Iteration 13 :  3.1387996303\n",
      "Iteration 14 :  3.06631604252\n",
      "Iteration 15 :  3.14412093005\n",
      "Iteration 16 :  3.12947847166\n",
      "Iteration 17 :  3.08329122424\n",
      "Iteration 18 :  3.08035240544\n",
      "Iteration 19 :  3.02429126008\n",
      "Iteration 20 :  3.12627196421\n",
      "Iteration 21 :  3.12019557629\n",
      "Iteration 22 :  3.13604854459\n",
      "Iteration 23 :  3.16101606982\n",
      "Iteration 24 :  3.15179327225\n",
      "Iteration 25 :  3.09706236611\n",
      "Iteration 26 :  2.81523439167\n",
      "Iteration 27 :  3.02720542577\n",
      "Iteration 28 :  3.05470497249\n",
      "Iteration 29 :  3.08059671069\n",
      "Iteration 30 :  2.94859617547\n",
      "Iteration 31 :  3.12411990287\n",
      "Iteration 32 :  3.1127058013\n",
      "Iteration 33 :  3.04130169528\n",
      "Iteration 34 :  3.10057457727\n",
      "Iteration 35 :  2.94458452019\n",
      "Iteration 36 :  3.1445934863\n",
      "Iteration 37 :  3.13686141723\n",
      "Iteration 38 :  3.10494851322\n",
      "Iteration 39 :  3.11875263448\n",
      "Iteration 40 :  3.08938027862\n",
      "Iteration 41 :  3.06104725028\n",
      "Iteration 42 :  3.03692464391\n",
      "Iteration 43 :  3.03421282814\n",
      "Iteration 44 :  3.09976209267\n",
      "Iteration 45 :  3.05606042692\n",
      "Iteration 46 :  3.11589212432\n",
      "Iteration 47 :  3.05577136326\n",
      "Iteration 48 :  2.81713284996\n",
      "Iteration 49 :  3.1343834625\n"
     ]
    }
   ],
   "source": [
    "means1 = np.empty(50)\n",
    "\n",
    "for iter in xrange(50):\n",
    "    x0=np.random.uniform()\n",
    "    samps = metropolis(g, prop, 150000,x0)\n",
    "    hs = h(samps)\n",
    "    means1[iter] = np.mean(hs)\n",
    "    print 'Iteration',iter, ': ',np.mean(hs)\n"
   ]
  },
  {
   "cell_type": "code",
   "execution_count": 313,
   "metadata": {
    "collapsed": false,
    "deletable": true,
    "editable": true
   },
   "outputs": [
    {
     "name": "stdout",
     "output_type": "stream",
     "text": [
      "Mean I: 6.8310, Var(I): 0.0300\n"
     ]
    }
   ],
   "source": [
    "print 'Mean I: {:.4f}, Var(I): {:.4f}'.format(np.mean(means1*nf),np.var(means1*nf))\n"
   ]
  },
  {
   "cell_type": "code",
   "execution_count": 319,
   "metadata": {
    "collapsed": false,
    "deletable": true,
    "editable": true
   },
   "outputs": [
    {
     "data": {
      "image/png": "[encoded data removed]",
      "text/plain": [
       "<matplotlib.figure.Figure at 0x1132da850>"
      ]
     },
     "metadata": {},
     "output_type": "display_data"
    },
    {
     "name": "stdout",
     "output_type": "stream",
     "text": [
      "('starting point was ', 0.041942109413038886)\n"
     ]
    }
   ],
   "source": [
    "# plot our sample histogram\n",
    "plt.hist(samps,bins=300, alpha=0.4, label=u'MCMC distribution', normed=True) \n",
    "xx= np.linspace(0,10,100)\n",
    "plt.plot(xx, map(g, xx), 'r', label=u'True distribution') \n",
    "plt.legend()\n",
    "plt.xlim([0,10])\n",
    "plt.show()\n",
    "print(\"starting point was \", x0)"
   ]
  },
  {
   "cell_type": "markdown",
   "metadata": {
    "deletable": true,
    "editable": true
   },
   "source": [
    "- Use $xe^{-x}$ to create your pdf $f_X$. Implement a Metropolis algorithm to sample from $f_X$. Run the simulation 50 times for 150,000 points. Report the value of $\\hat{I}$ and that of Var[${\\hat{I}}$]."
   ]
  },
  {
   "cell_type": "code",
   "execution_count": null,
   "metadata": {
    "collapsed": false,
    "deletable": true,
    "editable": true
   },
   "outputs": [],
   "source": [
    "g2 = lambda x: x*np.exp(-x)\n",
    "h2 = lambda x:(np.power(x,3)*np.sin(np.sqrt(np.log(x+1))))/(2+np.power(x-4,2))"
   ]
  },
  {
   "cell_type": "code",
   "execution_count": 315,
   "metadata": {
    "collapsed": false,
    "deletable": true,
    "editable": true
   },
   "outputs": [
    {
     "name": "stdout",
     "output_type": "stream",
     "text": [
      "Iteration 0 :  5.85285305753\n",
      "Iteration 1 :  6.14614858083\n",
      "Iteration 2 :  6.1892173723\n",
      "Iteration 3 :  6.09122620391\n",
      "Iteration 4 :  6.34022537187\n",
      "Iteration 5 :  5.96540919785\n",
      "Iteration 6 :  5.82075549915\n",
      "Iteration 7 :  5.97428179378\n",
      "Iteration 8 :  5.90704616002\n",
      "Iteration 9 :  6.00020149428\n",
      "Iteration 10 :  5.85850424022\n",
      "Iteration 11 :  6.08509276604\n",
      "Iteration 12 :  5.78977106791\n",
      "Iteration 13 :  6.2306012509\n",
      "Iteration 14 :  5.94294641143\n",
      "Iteration 15 :  6.12801922042\n",
      "Iteration 16 :  6.08429197523\n",
      "Iteration 17 :  5.69686440897\n",
      "Iteration 18 :  6.22165813357\n",
      "Iteration 19 :  6.39850267838\n",
      "Iteration 20 :  5.74414825037\n",
      "Iteration 21 :  6.01796324633\n",
      "Iteration 22 :  6.09117035465\n",
      "Iteration 23 :  6.08138068158\n",
      "Iteration 24 :  6.17363864254\n",
      "Iteration 25 :  5.96241068693\n",
      "Iteration 26 :  5.74201469268\n",
      "Iteration 27 :  5.97396743263\n",
      "Iteration 28 :  5.64084372157\n",
      "Iteration 29 :  6.25780179822\n",
      "Iteration 30 :  6.11368759815\n",
      "Iteration 31 :  5.93281513148\n",
      "Iteration 32 :  5.84262948826\n",
      "Iteration 33 :  6.15605219454\n",
      "Iteration 34 :  6.25846656713\n",
      "Iteration 35 :  5.98763767838\n",
      "Iteration 36 :  5.9237958775\n",
      "Iteration 37 :  6.05378552776\n",
      "Iteration 38 :  5.70985774241\n",
      "Iteration 39 :  6.17416448854\n",
      "Iteration 40 :  6.33260095839\n",
      "Iteration 41 :  5.90488906155\n",
      "Iteration 42 :  5.87831281014\n",
      "Iteration 43 :  6.39734193935\n",
      "Iteration 44 :  6.30052719296\n",
      "Iteration 45 :  6.23273815031\n",
      "Iteration 46 :  6.0764217488\n",
      "Iteration 47 :  5.91817797755\n",
      "Iteration 48 :  6.31781564991\n",
      "Iteration 49 :  6.05091973289\n"
     ]
    }
   ],
   "source": [
    "means2 = np.empty(50)\n",
    "\n",
    "for iter in xrange(50):\n",
    "    x0=np.random.uniform()\n",
    "    samps = metropolis(g2, prop, 150000,x0)\n",
    "    hs = h2(samps)\n",
    "    means2[iter] = np.mean(hs)\n",
    "    print 'Iteration',iter, ': ',np.mean(hs)\n"
   ]
  },
  {
   "cell_type": "code",
   "execution_count": 317,
   "metadata": {
    "collapsed": false,
    "deletable": true,
    "editable": true
   },
   "outputs": [
    {
     "name": "stdout",
     "output_type": "stream",
     "text": [
      "Mean I: 6.0394, Var(I): 0.0361\n"
     ]
    }
   ],
   "source": [
    "print 'Mean I: {:.4f}, Var(I): {:.4f}'.format(np.mean(means2),np.var(means2))"
   ]
  },
  {
   "cell_type": "code",
   "execution_count": 318,
   "metadata": {
    "collapsed": false,
    "deletable": true,
    "editable": true
   },
   "outputs": [
    {
     "data": {
      "image/png": "[encoded data removed]",
      "text/plain": [
       "<matplotlib.figure.Figure at 0x1139881d0>"
      ]
     },
     "metadata": {},
     "output_type": "display_data"
    },
    {
     "name": "stdout",
     "output_type": "stream",
     "text": [
      "('starting point was ', 0.041942109413038886)\n"
     ]
    }
   ],
   "source": [
    "# plot our sample histogram\n",
    "plt.hist(samps,bins=300, alpha=0.4, label=u'MCMC distribution', normed=True) \n",
    "xx= np.linspace(0,10,100)\n",
    "plt.plot(xx, g2(xx), 'r', label=u'True distribution') \n",
    "plt.legend()\n",
    "plt.xlim([0,10])\n",
    "plt.show()\n",
    "print(\"starting point was \", x0)"
   ]
  },
  {
   "cell_type": "markdown",
   "metadata": {
    "collapsed": true,
    "deletable": true,
    "editable": true
   },
   "source": [
    "- Compare the variance of your two estimates. Which choice of $f_X$ is better? Explain why."
   ]
  },
  {
   "cell_type": "markdown",
   "metadata": {
    "deletable": true,
    "editable": true
   },
   "source": [
    "The second is better. The pdf in the first case looks a bit weird (f(x) is not close to the true distribution). It may be due to my implementation."
   ]
  },
  {
   "cell_type": "markdown",
   "metadata": {
    "deletable": true,
    "editable": true
   },
   "source": [
    "## Problem 2: Metropolis Algorithm\n",
    "\n",
    "Suppose we ask you to memorize the order of the top five movies on IMDB. When we quiz you on the order afterwards, you might not recall the correct order, but the mistakes you will tend to make in your recall can be modeled by simple probabilistic models.\n",
    "  \n",
    "Let's say that the top five movies are:  \n",
    "1. *The Shawshank Redemption*\n",
    "2. *The Godfather*\n",
    "3. *The Godfather: Part II*\n",
    "4. *The Dark Knight*\n",
    "5. *Pulp Fiction*\n",
    "\n",
    "Let's represent this ordering by the vector $\\omega = (1,2,3,4,5)$. \n",
    "\n",
    "If you were to mistakenly recall the top five movies as:\n",
    "2. *The Godfather*\n",
    "3. *The Godfather: Part II*\n",
    "5. *Pulp Fiction*\n",
    "4. *The Dark Knight*\n",
    "1. *The Shawshank Redemption*\n",
    "\n",
    "We'd represent your answer by the vector $\\theta = (2,3,5,4,1)$.\n",
    "\n",
    "Now, we have a way of quantifying how wrong your answer can be. We define the Hamming distance between two top five rankings, $\\theta, \\omega$, as follows:\n",
    "$$d(\\theta, \\omega) = \\sum_{i=1}^5 \\mathbb{I}_{\\theta_i\\neq \\omega_i},$$ \n",
    "where $\\mathbb{I}_{\\theta_i\\neq \\omega_i}$ is the indicator function that returns 1 if $\\theta_i\\neq \\omega_i$, and 0 otherwise.\n",
    "\n",
    "For example, the Hamming distance between your answer and the correct answer is $d(\\theta, \\omega)=4$, because you only ranked *The Dark Knight* is correctly. \n",
    "\n",
    "Finally, let's suppose that the probability of giving a particular answer (expressed as $\\theta$) is modeled as\n",
    "$$ p(\\theta \\,|\\, \\omega, \\lambda) \\propto  e^{-\\lambda\\, d(\\theta,\\, \\omega)}.$$\n",
    "\n",
    "### Part A:\n",
    "\n",
    "Implement an Metropolis algorithm to produce sample guesses from 500 individuals, with various $\\lambda$ values, $\\lambda=0.2, 0.5, 1.0$. What are the top five possible guesses?"
   ]
  },
  {
   "cell_type": "code",
   "execution_count": 174,
   "metadata": {
    "collapsed": false,
    "deletable": true,
    "editable": true
   },
   "outputs": [
    {
     "data": {
      "image/png": "[encoded data removed]",
      "text/plain": [
       "<matplotlib.figure.Figure at 0x111a89290>"
      ]
     },
     "metadata": {},
     "output_type": "display_data"
    }
   ],
   "source": [
    "from scipy.stats import expon\n",
    "\n",
    "ls = [0.2,0.5,1.0] # lambdas\n",
    "\n",
    "f, axarr = plt.subplots(1, 3, sharey=True, sharex=True, figsize=(10,4))\n",
    "for i in xrange(len(ls)):\n",
    "    x = np.linspace(expon.ppf(0.01, scale=ls[i]),expon.ppf(0.99, scale=ls[i]), 100)\n",
    "    axarr[i].plot(x, expon.pdf(x, scale=ls[i]), 'o'); \n",
    "    axarr[i].set_title('lambda='+str(ls[i]))\n",
    "plt.show()"
   ]
  },
  {
   "cell_type": "code",
   "execution_count": 180,
   "metadata": {
    "collapsed": true,
    "deletable": true,
    "editable": true
   },
   "outputs": [],
   "source": [
    "def metropolis(p, qdraw, nsamp, xinit):\n",
    "    samples=np.empty(nsamp)\n",
    "    x_prev = xinit\n",
    "    accepted=0\n",
    "    for i in xrange(nsamp[0]):\n",
    "        x_star = qdraw(x_prev)\n",
    "        p_star = p(x_star)\n",
    "        p_prev = p(x_prev)\n",
    "        pdfratio = p_star/p_prev\n",
    "        if np.random.uniform() < min(1, pdfratio):\n",
    "            samples[i] = x_star\n",
    "            x_prev = x_star\n",
    "            accepted+=1\n",
    "        else:#we always get a sample\n",
    "            samples[i]= x_prev\n",
    "            \n",
    "    return samples, accepted"
   ]
  },
  {
   "cell_type": "code",
   "execution_count": 176,
   "metadata": {
    "collapsed": false,
    "deletable": true,
    "editable": true
   },
   "outputs": [],
   "source": [
    "import functools\n",
    "\n",
    "w = [1,2,3,4,5]\n",
    "\n",
    "def dist(u,v):\n",
    "    return np.sum([u[i]!=v[i] for i in xrange(len(u))])\n",
    "\n",
    "f = lambda l,x : expon.pdf(dist(x,w), scale=l)\n",
    "\n",
    "def prop_draw(ifrom):\n",
    "    return np.random.permutation(ifrom)\n"
   ]
  },
  {
   "cell_type": "code",
   "execution_count": 207,
   "metadata": {
    "collapsed": false,
    "deletable": true,
    "editable": true
   },
   "outputs": [
    {
     "name": "stdout",
     "output_type": "stream",
     "text": [
      "------------------- lambda 0.2\n",
      "('[ 1.  2.  3.  4.  5.]', 430)\n",
      "('[ 1.  3.  2.  4.  5.]', 32)\n",
      "('[ 3.  2.  1.  4.  5.]', 19)\n",
      "('[ 1.  2.  5.  4.  3.]', 15)\n",
      "('[ 1.  2.  4.  3.  5.]', 4)\n",
      "\n",
      "\n",
      "\n",
      "------------------- lambda 0.5\n",
      "('[ 1.  2.  3.  4.  5.]', 369)\n",
      "('[ 4.  2.  3.  1.  5.]', 53)\n",
      "('[ 2.  1.  3.  4.  5.]', 22)\n",
      "('[ 1.  4.  3.  2.  5.]', 18)\n",
      "('[ 5.  2.  3.  1.  4.]', 11)\n",
      "\n",
      "\n",
      "\n",
      "------------------- lambda 1.0\n",
      "('[ 1.  2.  3.  4.  5.]', 270)\n",
      "('[ 1.  4.  3.  2.  5.]', 24)\n",
      "('[ 1.  3.  2.  4.  5.]', 16)\n",
      "('[ 1.  2.  5.  4.  3.]', 14)\n",
      "('[ 4.  2.  1.  3.  5.]', 14)\n",
      "\n",
      "\n",
      "\n"
     ]
    }
   ],
   "source": [
    "import operator\n",
    "\n",
    "exp = expon(scale=1)\n",
    "\n",
    "init = [1,2,5,4,3]\n",
    "\n",
    "ranks_by_lambda = {}\n",
    "for l in ls:\n",
    "    print '------------------- lambda', l\n",
    "    samps, acc = metropolis(functools.partial(f,l), prop_draw, (500,5), init)\n",
    "    ranks_by_lambda[l] = samps\n",
    "    \n",
    "    # ranking\n",
    "    ranking = {}\n",
    "    for samp in samps:\n",
    "        key = np.array_str(samp)\n",
    "        if ranking.has_key(key)==False:\n",
    "            ranking[key]=0\n",
    "        ranking[key]+=1\n",
    "    ranking = sorted(ranking.items(), key=operator.itemgetter(1), reverse=True)\n",
    "    for r in ranking[:5]:\n",
    "        print r\n",
    "    \n",
    "    print '\\n\\n'\n",
    "    \n"
   ]
  },
  {
   "cell_type": "markdown",
   "metadata": {
    "deletable": true,
    "editable": true
   },
   "source": [
    "Thus, the trend is that smaller the lambda is smllaer the change from the correct answer."
   ]
  },
  {
   "cell_type": "markdown",
   "metadata": {
    "deletable": true,
    "editable": true
   },
   "source": [
    "### Part B:\n",
    "Compute the probability that *The Shawshank Redemption* is ranked as the top movie (ranked number 1) by the Metropolis algorithm sampler. Compare the resulting probabilities for the various different $\\lambda$ values. Summarize your findings."
   ]
  },
  {
   "cell_type": "code",
   "execution_count": 223,
   "metadata": {
    "collapsed": false,
    "deletable": true,
    "editable": true
   },
   "outputs": [
    {
     "name": "stdout",
     "output_type": "stream",
     "text": [
      "------------------- lambda 0.5\n",
      "The Shawshank Redemption: 0.802\n",
      "------------------- lambda 1.0\n",
      "The Shawshank Redemption: 0.714\n",
      "------------------- lambda 0.2\n",
      "The Shawshank Redemption: 0.962\n"
     ]
    }
   ],
   "source": [
    "for l, samps in ranks_by_lambda.iteritems():\n",
    "    print '------------------- lambda', l\n",
    "\n",
    "    # find The Shawshank Redemption\n",
    "    count = len(filter(lambda x : 1 == int(x[0]), samps))\n",
    "    print 'The Shawshank Redemption:', count/500.0\n"
   ]
  }
 ],
 "metadata": {
  "anaconda-cloud": {},
  "kernelspec": {
   "display_name": "Python 2",
   "language": "python",
   "name": "python2"
  },
  "language_info": {
   "codemirror_mode": {
    "name": "ipython",
    "version": 2
   },
   "file_extension": ".py",
   "mimetype": "text/x-python",
   "name": "python",
   "nbconvert_exporter": "python",
   "pygments_lexer": "ipython2",
   "version": "2.7.10"
  }
 },
 "nbformat": 4,
 "nbformat_minor": 1
}
